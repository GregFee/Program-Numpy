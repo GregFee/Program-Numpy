{
 "cells": [
  {
   "cell_type": "markdown",
   "metadata": {},
   "source": [
    "# An Investigation into numpy.random"
   ]
  },
  {
   "cell_type": "markdown",
   "metadata": {
    "collapsed": true
   },
   "source": [
    "## GMIT Programming for Data Analysis Assignment"
   ]
  },
  {
   "cell_type": "markdown",
   "metadata": {},
   "source": [
    "![title](img/numpy.png)"
   ]
  },
  {
   "cell_type": "markdown",
   "metadata": {
    "collapsed": true
   },
   "source": [
    "The Purpose of Numpy.random: Numpy is a Python package that is used to for numerical processing through multi dimensional arrays and this allows element by element operations known as braodcasting [1]. The overall purpose of Numpy.random package is to generate random numbers. Numpy uses a pseudorandom generator to draw random numbers that are distributed in a random fashion[2]. These numbers can be used for statistical simulation purposes. A seed can be used to dictate the random numbers and this can be set in the package. Numpy.random has different modules of random distribution which makes it useful. "
   ]
  },
  {
   "cell_type": "markdown",
   "metadata": {
    "collapsed": true
   },
   "source": [
    "## Numpy and Simple random data"
   ]
  },
  {
   "cell_type": "markdown",
   "metadata": {},
   "source": [
    "The following examples explain some of the uses of simple random data functions."
   ]
  },
  {
   "cell_type": "code",
   "execution_count": 18,
   "metadata": {
    "collapsed": true
   },
   "outputs": [],
   "source": [
    "#import libraries\n",
    "import numpy as np\n",
    "import matplotlib.pyplot as plt\n"
   ]
  },
  {
   "cell_type": "markdown",
   "metadata": {},
   "source": [
    "Generate array of random data with shape, shape here 6 x 3 array values between 0 and 1 "
   ]
  },
  {
   "cell_type": "code",
   "execution_count": 19,
   "metadata": {},
   "outputs": [
    {
     "name": "stdout",
     "output_type": "stream",
     "text": [
      "[[ 0.62805234  0.5903503   0.81342014]\n",
      " [ 0.25647248  0.55378888  0.54506606]\n",
      " [ 0.77214473  0.5698974   0.9323139 ]\n",
      " [ 0.56781273  0.23840703  0.89345152]\n",
      " [ 0.11588998  0.85515451  0.96848831]\n",
      " [ 0.38158821  0.30636971  0.43034132]] random array between 0 and 1\n"
     ]
    }
   ],
   "source": [
    "#range of 0 to 1 with shape \n",
    "x= np.random.rand(6,3)\n",
    "print(x, 'random array between 0 and 1')"
   ]
  },
  {
   "cell_type": "markdown",
   "metadata": {},
   "source": [
    "Generate array with integers, high number of range excluded but lower number included"
   ]
  },
  {
   "cell_type": "code",
   "execution_count": 20,
   "metadata": {},
   "outputs": [
    {
     "name": "stdout",
     "output_type": "stream",
     "text": [
      "[[10  5  4]\n",
      " [12  9  8]\n",
      " [13  6 14]\n",
      " [11 10  7]\n",
      " [ 5 15 10]\n",
      " [15 15 14]] array with integers\n"
     ]
    }
   ],
   "source": [
    "#generate array with integers, high number of range excluded but lower number included\n",
    "x =np.random.randint(4,16,(6,3))\n",
    "print(x, 'array with integers')"
   ]
  },
  {
   "cell_type": "markdown",
   "metadata": {},
   "source": [
    "Generate 10 random sample numbers."
   ]
  },
  {
   "cell_type": "code",
   "execution_count": 21,
   "metadata": {},
   "outputs": [
    {
     "name": "stdout",
     "output_type": "stream",
     "text": [
      "10 sample numbers [ 0.40748736  0.2705598   0.22150962  0.94998704  0.78708758  0.45388776\n",
      "  0.44625857  0.88594704  0.09204382  0.77621791]\n"
     ]
    }
   ],
   "source": [
    "#exmaple of 10 sample numbers\n",
    "x = np.random.random_sample((10,))\n",
    "print('10 sample numbers', x)"
   ]
  },
  {
   "cell_type": "markdown",
   "metadata": {},
   "source": [
    "Generate results of 20 coin flips using random.choice. Choice generates a random sample from a dictated array."
   ]
  },
  {
   "cell_type": "code",
   "execution_count": 22,
   "metadata": {},
   "outputs": [
    {
     "name": "stdout",
     "output_type": "stream",
     "text": [
      "['Heads' 'Tails' 'Tails' 'Tails' 'Tails' 'Tails' 'Tails' 'Heads' 'Tails'\n",
      " 'Tails' 'Tails' 'Heads' 'Heads' 'Tails' 'Heads' 'Tails' 'Heads' 'Heads'\n",
      " 'Tails' 'Heads'] results of 20 flips\n"
     ]
    }
   ],
   "source": [
    "#Simulate result of 20 coin flips\n",
    "flip = np.random.choice(['Heads', 'Tails'], 20)\n",
    "print(flip, 'results of 20 flips')"
   ]
  },
  {
   "cell_type": "markdown",
   "metadata": {},
   "source": [
    "You can also plot a random array for visualisation"
   ]
  },
  {
   "cell_type": "code",
   "execution_count": 23,
   "metadata": {},
   "outputs": [
    {
     "data": {
      "image/png": "[encoded data removed]",
      "text/plain": [
       "<matplotlib.figure.Figure at 0x1f3060d5908>"
      ]
     },
     "metadata": {},
     "output_type": "display_data"
    }
   ],
   "source": [
    "#you can also plot a random array for visualisation\n",
    "plt.plot(np.random.randint(4,16,(6,3)))\n",
    "plt.ylabel(\"Y\")\n",
    "plt.xlabel(\"X\")\n",
    "plt.show()"
   ]
  },
  {
   "cell_type": "markdown",
   "metadata": {},
   "source": [
    "## Permutation functions in Numpy.random"
   ]
  },
  {
   "cell_type": "markdown",
   "metadata": {},
   "source": [
    "The following shows examples of the permutaion functions in the numpy.random package. It can be used to alter a sequence or switch columns and rows of data."
   ]
  },
  {
   "cell_type": "code",
   "execution_count": 24,
   "metadata": {},
   "outputs": [
    {
     "name": "stdout",
     "output_type": "stream",
     "text": [
      "shuffled array [11 12  6 10  9 13  3  4  7 14  1  8  5  2  0]\n"
     ]
    }
   ],
   "source": [
    "#Example of using the shuffle function, range 0 - 14\n",
    "#This will randomly shuffle the array\n",
    "x = np.arange(15)\n",
    "np.random.shuffle(x)\n",
    "print('shuffled array', x)"
   ]
  },
  {
   "cell_type": "markdown",
   "metadata": {},
   "source": [
    "Below Edited from http://queirozf.com/entries/numpy-distributions-and-statistical-functionsexamples-reference"
   ]
  },
  {
   "cell_type": "code",
   "execution_count": 25,
   "metadata": {},
   "outputs": [
    {
     "name": "stdout",
     "output_type": "stream",
     "text": [
      "array evenly displayed with step sequence [  0.   8.  16.  24.  32.]\n"
     ]
    }
   ],
   "source": [
    "#Generate array evenly spaced with step size included, from 0 to 40 step size 8\n",
    "x = np.arange(0.0,40.0,8)\n",
    "print('array evenly displayed with step sequence', x)"
   ]
  },
  {
   "cell_type": "code",
   "execution_count": 26,
   "metadata": {},
   "outputs": [
    {
     "name": "stdout",
     "output_type": "stream",
     "text": [
      "[[ 0  1  2]\n",
      " [ 3  4  5]\n",
      " [ 6  7  8]\n",
      " [ 9 10 11]\n",
      " [12 13 14]] permuted array\n"
     ]
    }
   ],
   "source": [
    "#Example of using permutation function\n",
    "#Reshape generating 5 arrays\n",
    "x = np.arange(15).reshape((5, 3))\n",
    "np.random.permutation(x)\n",
    "print(x, 'permuted array')"
   ]
  },
  {
   "cell_type": "markdown",
   "metadata": {},
   "source": [
    "## Distribution functions in numpy.random"
   ]
  },
  {
   "cell_type": "markdown",
   "metadata": {},
   "source": [
    "Generate numbers with uniform distribution which probabilities for all outcomes are equal. "
   ]
  },
  {
   "cell_type": "code",
   "execution_count": 27,
   "metadata": {},
   "outputs": [
    {
     "name": "stdout",
     "output_type": "stream",
     "text": [
      "uniform distribution [ 0.37133669  0.4098697   0.12218165  0.20380747  0.01569023  0.65152203\n",
      "  0.10701113  0.51239407]\n"
     ]
    }
   ],
   "source": [
    "#8 numbers with unform distribution\n",
    "x =np.random.uniform(size=8)\n",
    "print('uniform distribution', x)"
   ]
  },
  {
   "cell_type": "code",
   "execution_count": 28,
   "metadata": {},
   "outputs": [
    {
     "data": {
      "image/png": "[encoded data removed]",
      "text/plain": [
       "<matplotlib.figure.Figure at 0x1f306313898>"
      ]
     },
     "metadata": {},
     "output_type": "display_data"
    }
   ],
   "source": [
    "#set the seed to control results and show boxplot of uniform distribution\n",
    "# edited from http://blog.bharatbhole.com/creating-boxplots-with-matplotlib/\n",
    "np.random.seed(5)\n",
    "x1 = np.random.uniform(100, 10, 200)\n",
    "x2 = np.random.uniform(50, 30, 200)\n",
    "x3 = np.random.uniform(90, 20, 200)\n",
    "x4 = np.random.uniform(70, 25, 200)\n",
    "uniformplot = [x1, x2, x3, x4]\n",
    "\n",
    "fig = plt.figure(1, figsize=(10, 4))\n",
    "ax = fig.add_subplot(111)\n",
    "bp = ax.boxplot(uniformplot)\n",
    "plt.show()"
   ]
  },
  {
   "cell_type": "markdown",
   "metadata": {},
   "source": [
    "Generate numbers with normal distribution. Normal distribution also known as Gaussian distribution will follow a normal distribution with an equal amount of values above and below the mean value [3]. Its is based on the probability density fuction where the data if visualised would follow a bell curve."
   ]
  },
  {
   "cell_type": "code",
   "execution_count": 29,
   "metadata": {},
   "outputs": [
    {
     "name": "stdout",
     "output_type": "stream",
     "text": [
      "[-0.9898337   0.53390418  0.58935885 -0.35492432  0.16434875  0.35470849\n",
      "  0.8773426   0.06850118] array with normal distribution\n"
     ]
    }
   ],
   "source": [
    "#sample size of 8 with normal distribution\n",
    "x =np.random.normal(size=8)\n",
    "print(x, 'array with normal distribution')"
   ]
  },
  {
   "cell_type": "code",
   "execution_count": 35,
   "metadata": {},
   "outputs": [
    {
     "data": {
      "image/png": "[encoded data removed]",
      "text/plain": [
       "<matplotlib.figure.Figure at 0x1f306548668>"
      ]
     },
     "metadata": {},
     "output_type": "display_data"
    }
   ],
   "source": [
    "#plot histogram to show data generated from  normal distribution\n",
    "x1 = np.random.normal(100,2, 10000)\n",
    "plt.hist(x1,100)\n",
    "plt.show()"
   ]
  },
  {
   "cell_type": "markdown",
   "metadata": {},
   "source": [
    "Generate random numbers with Rayleigh distribution on histrogram. Rayleigh distribution can be used when monitoring the lifespan and service time of an object [4]. It is related to Chi distribution."
   ]
  },
  {
   "cell_type": "code",
   "execution_count": 13,
   "metadata": {},
   "outputs": [
    {
     "data": {
      "image/png": "[encoded data removed]",
      "text/plain": [
       "<matplotlib.figure.Figure at 0x27a98344208>"
      ]
     },
     "metadata": {},
     "output_type": "display_data"
    }
   ],
   "source": [
    "#use rayleigh distrubution and plot reuslts on histrogram\n",
    "x = np.random.rayleigh(size = 500)\n",
    "plt.hist(x, normed=True, bins=30)\n",
    "plt.ylabel('Y')\n",
    "plt.show()"
   ]
  },
  {
   "cell_type": "markdown",
   "metadata": {},
   "source": [
    "Generate array using chi square distribution. The chi-square distribution is used widely in continuous probability distributions with many uses in statistical theory and inference [5]. The distrubution is based on the sum of the squared normal deviations of been calculated."
   ]
  },
  {
   "cell_type": "code",
   "execution_count": 14,
   "metadata": {},
   "outputs": [
    {
     "name": "stdout",
     "output_type": "stream",
     "text": [
      "[ 1.92531118  3.79139622  2.20061154  4.90233564  3.19043028  2.45932859\n",
      "  1.15329553  3.07972675] array with chi square distribution\n"
     ]
    }
   ],
   "source": [
    "#use random chi square distribution for array\n",
    "x = np.random.chisquare(4,8)\n",
    "print(x, 'array with chi square distribution')"
   ]
  },
  {
   "cell_type": "markdown",
   "metadata": {},
   "source": [
    "Generate array with binomial distribution and plot histrogram. Binomial distribution is used to measure the amount of successes in a given sample. Each observation will represent two outcomes sucess or failure where each observation is independant and the probability of sucess is the same for each outcome [6]."
   ]
  },
  {
   "cell_type": "code",
   "execution_count": 15,
   "metadata": {},
   "outputs": [
    {
     "data": {
      "image/png": "[encoded data removed]",
      "text/plain": [
       "<matplotlib.figure.Figure at 0x27a98b2f9b0>"
      ]
     },
     "metadata": {},
     "output_type": "display_data"
    }
   ],
   "source": [
    "#edited from https://data-flair.training/blogs/python-probability-distributions/\n",
    "#plot histogram using binomial distribution\n",
    "x=np.random.binomial(5,0.25,500)\n",
    "plt.hist(x,16,normed=True,color='Blue')\n",
    "plt.show()"
   ]
  },
  {
   "cell_type": "markdown",
   "metadata": {},
   "source": [
    "Plot of Two Poisson distribution arrays. Poisson distribution maybe described as an extreme case of binomial distribution [7]. It is useful for measuring sucesses of an event occuring at fixed intervals."
   ]
  },
  {
   "cell_type": "code",
   "execution_count": 16,
   "metadata": {},
   "outputs": [
    {
     "data": {
      "image/png": "[encoded data removed]",
      "text/plain": [
       "<matplotlib.figure.Figure at 0x27a98b7e5c0>"
      ]
     },
     "metadata": {},
     "output_type": "display_data"
    }
   ],
   "source": [
    "#Generate plot from random array with poisson distribution\n",
    "x1 = np.random.poisson(5,20)\n",
    "x2 = np.random.poisson(5,20)\n",
    "plt.plot(x1, 'mo', label=\"x1\")\n",
    "plt.plot(x2, 'go', label=\"x2\")\n",
    "plt.legend(bbox_to_anchor=(1, 1), loc=1, borderaxespad=0.)\n",
    "plt.show()"
   ]
  },
  {
   "cell_type": "markdown",
   "metadata": {},
   "source": [
    "## Using the seed in pseudorandom numbers. "
   ]
  },
  {
   "cell_type": "markdown",
   "metadata": {},
   "source": [
    "![title](img/mersenne.png)"
   ]
  },
  {
   "cell_type": "markdown",
   "metadata": {
    "collapsed": true
   },
   "source": [
    "The above random examples will all generate random arrays. If you want to control the generated array you can adjust the seed. If you want to generate the same set of random numbers everytime you can set the seed and if you set the seed the same for each array you will get the same results [8].Numpy.random uses the Mersenne Twister algorithm to generate random numbers and this is controlled by the seed. Mersenne Twister generates numbers that are almost uniform and have a large period and this makes it useful and reliable for a wide variety of applications [9]. It uses Mersenne prime number as its basis and is named after Marin Mersenne.It is prime number of the form 2n − 1 where n is a natural number [10]."
   ]
  },
  {
   "cell_type": "code",
   "execution_count": 17,
   "metadata": {},
   "outputs": [
    {
     "data": {
      "text/plain": [
       "array([ 0.86051063,  0.8842648 ,  0.94108647])"
      ]
     },
     "execution_count": 17,
     "metadata": {},
     "output_type": "execute_result"
    }
   ],
   "source": [
    "#generate random array\n",
    "np.random.rand(3)"
   ]
  },
  {
   "cell_type": "code",
   "execution_count": 18,
   "metadata": {},
   "outputs": [
    {
     "data": {
      "text/plain": [
       "array([ 0.93566531,  0.70564293,  0.22094262])"
      ]
     },
     "execution_count": 18,
     "metadata": {},
     "output_type": "execute_result"
    }
   ],
   "source": [
    "#generate random array different results\n",
    "np.random.rand(3)"
   ]
  },
  {
   "cell_type": "code",
   "execution_count": 19,
   "metadata": {},
   "outputs": [
    {
     "data": {
      "text/plain": [
       "array([ 0.4359949 ,  0.02592623,  0.54966248])"
      ]
     },
     "execution_count": 19,
     "metadata": {},
     "output_type": "execute_result"
    }
   ],
   "source": [
    "#set the seed\n",
    "np.random.seed(2) ; np.random.rand(3)"
   ]
  },
  {
   "cell_type": "code",
   "execution_count": 20,
   "metadata": {},
   "outputs": [
    {
     "data": {
      "text/plain": [
       "array([ 0.4359949 ,  0.02592623,  0.54966248])"
      ]
     },
     "execution_count": 20,
     "metadata": {},
     "output_type": "execute_result"
    }
   ],
   "source": [
    "#generated numbers are controlled\n",
    "np.random.seed(2) ; np.random.rand(3)"
   ]
  },
  {
   "cell_type": "markdown",
   "metadata": {},
   "source": [
    "The seed might want to be controlled to recreate the same results when testing an hypothesis or simulating a process to do the same thing everytime."
   ]
  },
  {
   "cell_type": "markdown",
   "metadata": {},
   "source": [
    "### References\n",
    "\n",
    "[1] SciPy and NumPy by Eli Bressert https://www.oreilly.com/library/view/scipy-and-numpy/9781449361600/ch01.html \n",
    "\n",
    "\n",
    "[2] An Introduction to Numpy and Scipy(2014) M Scott Shell https://engineering.ucsb.edu/~shell/che210d/numpy.pdf\n",
    "\n",
    "[3] Gaussian Distribution https://www.sciencedirect.com/topics/biochemistry-genetics-and-molecular-biology/gaussian-distribution\n",
    "\n",
    "[4] http://www.math.wm.edu/~leemis/chart/UDR/PDFs/Rayleigh.pdf\n",
    "\n",
    "[5] Chi-Square Distribution by Miljenko Huzak ://link.springer.com/referenceworkentry/10.1007%2F978-3-642-04898-2_637\n",
    "\n",
    "[6] The Binomial Distribution http://www.stat.yale.edu/Courses/1997-98/101/binom.htm\n",
    "\n",
    "[7] The Poisson Distribution(2005) by E Bruce Brooks https://www.umass.edu/wsp/resources/poisson/\n",
    "\n",
    "[8] Numpy Tutorial https://www.machinelearningplus.com/python/numpy-tutorial-part1-array-python-examples/\n",
    "\n",
    "[9] Pseudorandom number generators https://pymotw.com/2/random/\n",
    "\n",
    "[10] Mersenne Prime https://www.britannica.com/science/Mersenne-prime"
   ]
  }
 ],
 "metadata": {
  "kernelspec": {
   "display_name": "Python 3",
   "language": "python",
   "name": "python3"
  },
  "language_info": {
   "codemirror_mode": {
    "name": "ipython",
    "version": 3
   },
   "file_extension": ".py",
   "mimetype": "text/x-python",
   "name": "python",
   "nbconvert_exporter": "python",
   "pygments_lexer": "ipython3",
   "version": "3.6.3"
  }
 },
 "nbformat": 4,
 "nbformat_minor": 2
}
