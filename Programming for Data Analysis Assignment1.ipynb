{
 "cells": [
  {
   "cell_type": "markdown",
   "metadata": {},
   "source": [
    "## An Investigation into numpy.random"
   ]
  },
  {
   "cell_type": "markdown",
   "metadata": {
    "collapsed": true
   },
   "source": [
    "## GMIT Programming for Data Analysis Assignment"
   ]
  },
  {
   "cell_type": "markdown",
   "metadata": {
    "collapsed": true
   },
   "source": [
    "Purpose of Numpy: Numpy is a Python package that is used to for numnerical processing through multi dimensional arrays and thats allows element by element operations known as braodcasting.[1] The overall purpose of Numpy.random function is to generate random numbers. Numpy uses a pseudorandom generator to draw random numbers that are distributed in a random fashion[2]. These numbers can be used for statistical simulation purposes. A seed can be used to dictate the random numbers and this can be set in the package. Numpy.random has different sets of random distribution which makes it useful. "
   ]
  },
  {
   "cell_type": "markdown",
   "metadata": {
    "collapsed": true
   },
   "source": [
    "## Numpy and Simple random data"
   ]
  },
  {
   "cell_type": "code",
   "execution_count": 4,
   "metadata": {},
   "outputs": [
    {
     "data": {
      "text/plain": [
       "array([[ 0.15310096,  0.66195625,  0.76397418,  0.26552604],\n",
       "       [ 0.67563068,  0.5417968 ,  0.50174171,  0.96696408],\n",
       "       [ 0.16426047,  0.72512158,  0.58920812,  0.21071176],\n",
       "       [ 0.29387247,  0.26831676,  0.79873605,  0.61450523],\n",
       "       [ 0.83938124,  0.02000151,  0.45304905,  0.66010547],\n",
       "       [ 0.26583459,  0.08315986,  0.87786781,  0.87571905],\n",
       "       [ 0.45558505,  0.84198008,  0.20338196,  0.21058838],\n",
       "       [ 0.81846309,  0.99160711,  0.97404905,  0.81639503]])"
      ]
     },
     "execution_count": 4,
     "metadata": {},
     "output_type": "execute_result"
    }
   ],
   "source": [
    "#import numpy\n",
    "import numpy as np\n",
    "\n",
    "#generate array of random data with a given shape \n",
    "np.random.rand(8,4)"
   ]
  },
  {
   "cell_type": "markdown",
   "metadata": {},
   "source": [
    "Refeferences:\n",
    "\n",
    "[1]. SciPy and NumPy by Eli Bressert https://www.oreilly.com/library/view/scipy-and-numpy/9781449361600/ch01.html \n",
    "\n",
    "\n",
    "[2]. An Introduction to Numpy and Scipy(2014) M Scott Shell https://engineering.ucsb.edu/~shell/che210d/numpy.pdf\n",
    "\n",
    "\n",
    "  "
   ]
  }
 ],
 "metadata": {
  "kernelspec": {
   "display_name": "Python 3",
   "language": "python",
   "name": "python3"
  },
  "language_info": {
   "codemirror_mode": {
    "name": "ipython",
    "version": 3
   },
   "file_extension": ".py",
   "mimetype": "text/x-python",
   "name": "python",
   "nbconvert_exporter": "python",
   "pygments_lexer": "ipython3",
   "version": "3.6.3"
  }
 },
 "nbformat": 4,
 "nbformat_minor": 2
}
