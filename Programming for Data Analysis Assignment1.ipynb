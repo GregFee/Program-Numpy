{
 "cells": [
  {
   "cell_type": "markdown",
   "metadata": {},
   "source": [
    "## An Investigation into numpy.random"
   ]
  },
  {
   "cell_type": "markdown",
   "metadata": {
    "collapsed": true
   },
   "source": [
    "## GMIT Programming for Data Analysis Assignment"
   ]
  },
  {
   "cell_type": "markdown",
   "metadata": {
    "collapsed": true
   },
   "source": [
    "Purpose of Numpy: Numpy is a Python package that is used to for numerical processing through multi dimensional arrays and this allows element by element operations known as braodcasting.[1] The overall purpose of Numpy.random function is to generate random numbers. Numpy uses a pseudorandom generator to draw random numbers that are distributed in a random fashion[2]. These numbers can be used for statistical simulation purposes. A seed can be used to dictate the random numbers and this can be set in the package. Numpy.random has different modules of random distribution which makes it useful. "
   ]
  },
  {
   "cell_type": "markdown",
   "metadata": {
    "collapsed": true
   },
   "source": [
    "## Numpy and Simple random data"
   ]
  },
  {
   "cell_type": "markdown",
   "metadata": {},
   "source": [
    "The following examples explain some of the uses of simple random data functions."
   ]
  },
  {
   "cell_type": "code",
   "execution_count": 1,
   "metadata": {
    "collapsed": true
   },
   "outputs": [],
   "source": [
    "#import libraries\n",
    "import numpy as np\n",
    "import matplotlib.pyplot as plt\n"
   ]
  },
  {
   "cell_type": "markdown",
   "metadata": {},
   "source": [
    "#### Generate array of random data with shape, shape here 6 x 3 array values between 0 and 1 "
   ]
  },
  {
   "cell_type": "code",
   "execution_count": 2,
   "metadata": {},
   "outputs": [
    {
     "name": "stdout",
     "output_type": "stream",
     "text": [
      "[[ 0.89641343  0.86958899  0.46272592]\n",
      " [ 0.47160194  0.07018866  0.94473118]\n",
      " [ 0.1934892   0.65092413  0.12870293]\n",
      " [ 0.06791266  0.14230482  0.51270299]\n",
      " [ 0.88168903  0.30075982  0.95834665]\n",
      " [ 0.12451717  0.90229016  0.79861632]]\n"
     ]
    }
   ],
   "source": [
    "x= np.random.rand(6,3)\n",
    "print(x)"
   ]
  },
  {
   "cell_type": "markdown",
   "metadata": {},
   "source": [
    "#### Generate array with integers, high number of range excluded but lower number included"
   ]
  },
  {
   "cell_type": "code",
   "execution_count": 3,
   "metadata": {},
   "outputs": [
    {
     "name": "stdout",
     "output_type": "stream",
     "text": [
      "[[13 14 13]\n",
      " [10  6 10]\n",
      " [ 4  8 13]\n",
      " [15  5 15]\n",
      " [15 13  5]\n",
      " [ 9 11  5]]\n"
     ]
    }
   ],
   "source": [
    "#generate array with integers, high number of range excluded but lower number included\n",
    "x =np.random.randint(4,16,(6,3))\n",
    "print(x)"
   ]
  },
  {
   "cell_type": "markdown",
   "metadata": {},
   "source": [
    "#### Generate 10 random sample numbers."
   ]
  },
  {
   "cell_type": "code",
   "execution_count": 4,
   "metadata": {},
   "outputs": [
    {
     "name": "stdout",
     "output_type": "stream",
     "text": [
      "[ 0.8851467   0.32771708  0.29328426  0.62947518  0.36453122  0.07416506\n",
      "  0.9042869   0.38925616  0.37871828  0.76638937]\n"
     ]
    }
   ],
   "source": [
    "x = np.random.random_sample((10,))\n",
    "print(x)"
   ]
  },
  {
   "cell_type": "markdown",
   "metadata": {},
   "source": [
    "#### Generate results of 20 coin flips using random.choice"
   ]
  },
  {
   "cell_type": "code",
   "execution_count": 5,
   "metadata": {},
   "outputs": [
    {
     "name": "stdout",
     "output_type": "stream",
     "text": [
      "['Heads' 'Tails' 'Tails' 'Tails' 'Tails' 'Tails' 'Heads' 'Heads' 'Tails'\n",
      " 'Heads' 'Tails' 'Heads' 'Heads' 'Tails' 'Tails' 'Heads' 'Tails' 'Heads'\n",
      " 'Heads' 'Tails']\n"
     ]
    }
   ],
   "source": [
    "flip = np.random.choice(['Heads', 'Tails'], 20)\n",
    "print(flip)"
   ]
  },
  {
   "cell_type": "markdown",
   "metadata": {},
   "source": [
    "#### You can also plot a random array for visualisation"
   ]
  },
  {
   "cell_type": "code",
   "execution_count": 6,
   "metadata": {},
   "outputs": [
    {
     "data": {
      "image/png": "[encoded data removed]",
      "text/plain": [
       "<matplotlib.figure.Figure at 0x28a4a89d278>"
      ]
     },
     "metadata": {},
     "output_type": "display_data"
    }
   ],
   "source": [
    "#you can also plot a random array for visualisation\n",
    "plt.plot(np.random.randint(4,16,(6,3)))\n",
    "plt.ylabel(\"Y\")\n",
    "plt.xlabel(\"X\")\n",
    "plt.show()"
   ]
  },
  {
   "cell_type": "markdown",
   "metadata": {},
   "source": [
    "## Permutation functions in Numpy.random"
   ]
  },
  {
   "cell_type": "markdown",
   "metadata": {},
   "source": [
    "The following show examples of the permutaion functions in the numpy.random package"
   ]
  },
  {
   "cell_type": "code",
   "execution_count": 7,
   "metadata": {},
   "outputs": [
    {
     "name": "stdout",
     "output_type": "stream",
     "text": [
      "[ 1  3  0  4  7 12 10 11  8 13  2  9  6 14  5]\n"
     ]
    }
   ],
   "source": [
    "#Example of using the shuffle function, range 0 - 14\n",
    "#This will randomly shuffle the array\n",
    "x = np.arange(15)\n",
    "np.random.shuffle(x)\n",
    "print(x)\n"
   ]
  },
  {
   "cell_type": "code",
   "execution_count": 8,
   "metadata": {},
   "outputs": [
    {
     "name": "stdout",
     "output_type": "stream",
     "text": [
      "[[ 0  1  2]\n",
      " [ 3  4  5]\n",
      " [ 6  7  8]\n",
      " [ 9 10 11]\n",
      " [12 13 14]]\n"
     ]
    }
   ],
   "source": [
    "#Example of using permutation function\n",
    "#Reshape generating 5 arrays\n",
    "x = np.arange(15).reshape((5, 3))\n",
    "np.random.permutation(x)\n",
    "print(x)"
   ]
  },
  {
   "cell_type": "markdown",
   "metadata": {},
   "source": [
    "## Distribution functions in numpy.random"
   ]
  },
  {
   "cell_type": "markdown",
   "metadata": {},
   "source": [
    "#### Generate numbers with uniform distribution"
   ]
  },
  {
   "cell_type": "code",
   "execution_count": 9,
   "metadata": {},
   "outputs": [
    {
     "name": "stdout",
     "output_type": "stream",
     "text": [
      "[ 0.77704811  0.78915068  0.1318945   0.14486976  0.24643795  0.27809448\n",
      "  0.96484333  0.33767609]\n"
     ]
    }
   ],
   "source": [
    "x =np.random.uniform(size=8)\n",
    "print(x)"
   ]
  },
  {
   "cell_type": "markdown",
   "metadata": {},
   "source": [
    "#### Generate numbers with normal distribution. Normal distribution also known as Gaussian distribution will follow a normal distribution with an equal amount of values above and below the mean value[3]. "
   ]
  },
  {
   "cell_type": "code",
   "execution_count": 10,
   "metadata": {},
   "outputs": [
    {
     "name": "stdout",
     "output_type": "stream",
     "text": [
      "[ 0.713868    1.13788461  0.54320972 -0.96699289  0.77239288  0.53103775\n",
      " -0.48958547 -0.51255596]\n"
     ]
    }
   ],
   "source": [
    "x =np.random.normal(size=8)\n",
    "print(x)"
   ]
  },
  {
   "cell_type": "markdown",
   "metadata": {},
   "source": [
    "#### Generate random numbers with Rayeligh distribution on histrogram. Rayleigh distribution can be used when monitoring the lifespan and service time of an object[4]."
   ]
  },
  {
   "cell_type": "code",
   "execution_count": 11,
   "metadata": {},
   "outputs": [
    {
     "data": {
      "image/png": "[encoded data removed]",
      "text/plain": [
       "<matplotlib.figure.Figure at 0x28a4a8cb438>"
      ]
     },
     "metadata": {},
     "output_type": "display_data"
    }
   ],
   "source": [
    "x = np.random.rayleigh(size = 500)\n",
    "plt.hist(x, normed=True, bins=30)\n",
    "plt.ylabel('Y')\n",
    "plt.show()"
   ]
  },
  {
   "cell_type": "markdown",
   "metadata": {},
   "source": [
    "#### Generate array using chi square distribution. The chi-square distribution is used widely in continuous probability distributions with many uses in statistical theory and inference [5]."
   ]
  },
  {
   "cell_type": "code",
   "execution_count": 12,
   "metadata": {},
   "outputs": [
    {
     "name": "stdout",
     "output_type": "stream",
     "text": [
      "[ 3.0167329   2.17250037  1.66309202  0.61894354  2.61690411  0.54239904\n",
      "  3.98958071  2.40041399]\n"
     ]
    }
   ],
   "source": [
    "x = np.random.chisquare(4,8)\n",
    "print(x)"
   ]
  },
  {
   "cell_type": "markdown",
   "metadata": {},
   "source": [
    "Refeferences:\n",
    "\n",
    "[1] SciPy and NumPy by Eli Bressert https://www.oreilly.com/library/view/scipy-and-numpy/9781449361600/ch01.html \n",
    "\n",
    "\n",
    "[2] An Introduction to Numpy and Scipy(2014) M Scott Shell https://engineering.ucsb.edu/~shell/che210d/numpy.pdf\n",
    "\n",
    "[3] Gaussian Distribution https://www.sciencedirect.com/topics/biochemistry-genetics-and-molecular-biology/gaussian-distribution\n",
    "\n",
    "[4] http://www.math.wm.edu/~leemis/chart/UDR/PDFs/Rayleigh.pdf\n",
    "\n",
    "[5] Chi-Square Distribution by Miljenko Huzak ://link.springer.com/referenceworkentry/10.1007%2F978-3-642-04898-2_637\n",
    "\n",
    "\n",
    "  "
   ]
  },
  {
   "cell_type": "code",
   "execution_count": null,
   "metadata": {
    "collapsed": true
   },
   "outputs": [],
   "source": []
  }
 ],
 "metadata": {
  "kernelspec": {
   "display_name": "Python 3",
   "language": "python",
   "name": "python3"
  },
  "language_info": {
   "codemirror_mode": {
    "name": "ipython",
    "version": 3
   },
   "file_extension": ".py",
   "mimetype": "text/x-python",
   "name": "python",
   "nbconvert_exporter": "python",
   "pygments_lexer": "ipython3",
   "version": "3.6.3"
  }
 },
 "nbformat": 4,
 "nbformat_minor": 2
}
