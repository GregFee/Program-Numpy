{
 "cells": [
  {
   "cell_type": "markdown",
   "metadata": {},
   "source": [
    "## An Investigation into numpy.random"
   ]
  },
  {
   "cell_type": "markdown",
   "metadata": {
    "collapsed": true
   },
   "source": [
    "## GMIT Programming for Data Analysis Assignment"
   ]
  },
  {
   "cell_type": "markdown",
   "metadata": {
    "collapsed": true
   },
   "source": [
    "Purpose of Numpy: Numpy is a Python package that is used to for numerical processing through multi dimensional arrays and this allows element by element operations known as braodcasting.[1] The overall purpose of Numpy.random function is to generate random numbers. Numpy uses a pseudorandom generator to draw random numbers that are distributed in a random fashion[2]. These numbers can be used for statistical simulation purposes. A seed can be used to dictate the random numbers and this can be set in the package. Numpy.random has different modules of random distribution which makes it useful. "
   ]
  },
  {
   "cell_type": "markdown",
   "metadata": {
    "collapsed": true
   },
   "source": [
    "## Numpy and Simple random data"
   ]
  },
  {
   "cell_type": "markdown",
   "metadata": {},
   "source": [
    "The following examples explain some of the uses of simple random data functions."
   ]
  },
  {
   "cell_type": "code",
   "execution_count": 26,
   "metadata": {
    "collapsed": true
   },
   "outputs": [],
   "source": [
    "#import libraries\n",
    "import numpy as np\n",
    "import matplotlib.pyplot as plt\n"
   ]
  },
  {
   "cell_type": "markdown",
   "metadata": {},
   "source": [
    "#### Generate array of random data with shape, shape here 6 x 3 array values between 0 and 1 "
   ]
  },
  {
   "cell_type": "code",
   "execution_count": 27,
   "metadata": {},
   "outputs": [
    {
     "name": "stdout",
     "output_type": "stream",
     "text": [
      "[[ 0.77549122  0.55134408  0.23109814]\n",
      " [ 0.65952251  0.17979787  0.23099412]\n",
      " [ 0.46366892  0.38424061  0.94917204]\n",
      " [ 0.97762168  0.24024392  0.98363719]\n",
      " [ 0.70731501  0.27078599  0.59608064]\n",
      " [ 0.89998792  0.22176394  0.01551777]]\n"
     ]
    }
   ],
   "source": [
    "x= np.random.rand(6,3)\n",
    "print(x)"
   ]
  },
  {
   "cell_type": "markdown",
   "metadata": {},
   "source": [
    "#### Generate array with integers, high number of range excluded but lower number included"
   ]
  },
  {
   "cell_type": "code",
   "execution_count": 28,
   "metadata": {},
   "outputs": [
    {
     "name": "stdout",
     "output_type": "stream",
     "text": [
      "[[ 4 15 13]\n",
      " [13 15 12]\n",
      " [ 8 15  5]\n",
      " [14 14 13]\n",
      " [13 14 14]\n",
      " [ 8 13 14]]\n"
     ]
    }
   ],
   "source": [
    "#generate array with integers, high number of range excluded but lower number included\n",
    "x =np.random.randint(4,16,(6,3))\n",
    "print(x)"
   ]
  },
  {
   "cell_type": "markdown",
   "metadata": {},
   "source": [
    "#### Generate 10 random sample numbers."
   ]
  },
  {
   "cell_type": "code",
   "execution_count": 29,
   "metadata": {},
   "outputs": [
    {
     "name": "stdout",
     "output_type": "stream",
     "text": [
      "[ 0.4047146   0.75676061  0.54033316  0.94035992  0.11420294  0.69935911\n",
      "  0.07639813  0.61779727  0.96637348  0.86046355]\n"
     ]
    }
   ],
   "source": [
    "x = np.random.random_sample((10,))\n",
    "print(x)"
   ]
  },
  {
   "cell_type": "markdown",
   "metadata": {},
   "source": [
    "#### Generate results of 20 coin flips using random.choice"
   ]
  },
  {
   "cell_type": "code",
   "execution_count": 30,
   "metadata": {},
   "outputs": [
    {
     "name": "stdout",
     "output_type": "stream",
     "text": [
      "['Heads' 'Heads' 'Tails' 'Tails' 'Tails' 'Tails' 'Heads' 'Tails' 'Tails'\n",
      " 'Tails' 'Tails' 'Tails' 'Tails' 'Tails' 'Heads' 'Tails' 'Tails' 'Heads'\n",
      " 'Tails' 'Tails']\n"
     ]
    }
   ],
   "source": [
    "flip = np.random.choice(['Heads', 'Tails'], 20)\n",
    "print(flip)"
   ]
  },
  {
   "cell_type": "markdown",
   "metadata": {},
   "source": [
    "#### You can also plot a random array for visualisation"
   ]
  },
  {
   "cell_type": "code",
   "execution_count": 31,
   "metadata": {},
   "outputs": [
    {
     "data": {
      "image/png": "[encoded data removed]",
      "text/plain": [
       "<matplotlib.figure.Figure at 0x2943cc02128>"
      ]
     },
     "metadata": {},
     "output_type": "display_data"
    }
   ],
   "source": [
    "#you can also plot a random array for visualisation\n",
    "plt.plot(np.random.randint(4,16,(6,3)))\n",
    "plt.ylabel(\"Y\")\n",
    "plt.xlabel(\"X\")\n",
    "plt.show()"
   ]
  },
  {
   "cell_type": "markdown",
   "metadata": {},
   "source": [
    "## Permutation functions in Numpy.random"
   ]
  },
  {
   "cell_type": "markdown",
   "metadata": {},
   "source": [
    "The following show examples of the permutaion functions in the numpy.random package"
   ]
  },
  {
   "cell_type": "code",
   "execution_count": 32,
   "metadata": {},
   "outputs": [
    {
     "name": "stdout",
     "output_type": "stream",
     "text": [
      "[ 8  6  2  3  4 14  7 11 13 12 10  0  1  5  9]\n"
     ]
    }
   ],
   "source": [
    "#Example of using the shuffle function, range 0 - 14\n",
    "#This will randomly shuffle the array\n",
    "x = np.arange(15)\n",
    "np.random.shuffle(x)\n",
    "print(x)"
   ]
  },
  {
   "cell_type": "code",
   "execution_count": 33,
   "metadata": {},
   "outputs": [
    {
     "name": "stdout",
     "output_type": "stream",
     "text": [
      "[  0.   8.  16.  24.  32.]\n"
     ]
    }
   ],
   "source": [
    "#Edited from http://queirozf.com/entries/numpy-distributions-and-statistical-functions\n",
    "#-examples-reference\n",
    "#Generate array evenly spaced with step size included, from 0 to 40 step size 8\n",
    "x = np.arange(0.0,40.0,8)\n",
    "print(x)"
   ]
  },
  {
   "cell_type": "code",
   "execution_count": 34,
   "metadata": {},
   "outputs": [
    {
     "name": "stdout",
     "output_type": "stream",
     "text": [
      "[[ 0  1  2]\n",
      " [ 3  4  5]\n",
      " [ 6  7  8]\n",
      " [ 9 10 11]\n",
      " [12 13 14]]\n"
     ]
    }
   ],
   "source": [
    "#Example of using permutation function\n",
    "#Reshape generating 5 arrays\n",
    "x = np.arange(15).reshape((5, 3))\n",
    "np.random.permutation(x)\n",
    "print(x)"
   ]
  },
  {
   "cell_type": "markdown",
   "metadata": {},
   "source": [
    "## Distribution functions in numpy.random"
   ]
  },
  {
   "cell_type": "markdown",
   "metadata": {},
   "source": [
    "#### Generate numbers with uniform distribution"
   ]
  },
  {
   "cell_type": "code",
   "execution_count": 35,
   "metadata": {},
   "outputs": [
    {
     "name": "stdout",
     "output_type": "stream",
     "text": [
      "[ 0.85335422  0.04092626  0.58845149  0.67305117  0.54540438  0.04326776\n",
      "  0.70083313  0.68741522]\n"
     ]
    }
   ],
   "source": [
    "x =np.random.uniform(size=8)\n",
    "print(x)"
   ]
  },
  {
   "cell_type": "markdown",
   "metadata": {},
   "source": [
    "#### Generate numbers with normal distribution. Normal distribution also known as Gaussian distribution will follow a normal distribution with an equal amount of values above and below the mean value[3]. "
   ]
  },
  {
   "cell_type": "code",
   "execution_count": 36,
   "metadata": {},
   "outputs": [
    {
     "name": "stdout",
     "output_type": "stream",
     "text": [
      "[-0.55325438  0.80783055 -1.16475806 -0.53995259 -0.61579928 -0.43338854\n",
      "  1.02832153  1.26027204]\n"
     ]
    }
   ],
   "source": [
    "x =np.random.normal(size=8)\n",
    "print(x)"
   ]
  },
  {
   "cell_type": "markdown",
   "metadata": {},
   "source": [
    "#### Generate random numbers with Rayeligh distribution on histrogram. Rayleigh distribution can be used when monitoring the lifespan and service time of an object[4]."
   ]
  },
  {
   "cell_type": "code",
   "execution_count": 37,
   "metadata": {},
   "outputs": [
    {
     "data": {
      "image/png": "[encoded data removed]",
      "text/plain": [
       "<matplotlib.figure.Figure at 0x2943d198f28>"
      ]
     },
     "metadata": {},
     "output_type": "display_data"
    }
   ],
   "source": [
    "x = np.random.rayleigh(size = 500)\n",
    "plt.hist(x, normed=True, bins=30)\n",
    "plt.ylabel('Y')\n",
    "plt.show()"
   ]
  },
  {
   "cell_type": "markdown",
   "metadata": {},
   "source": [
    "#### Generate array using chi square distribution. The chi-square distribution is used widely in continuous probability distributions with many uses in statistical theory and inference [5]."
   ]
  },
  {
   "cell_type": "code",
   "execution_count": 38,
   "metadata": {},
   "outputs": [
    {
     "name": "stdout",
     "output_type": "stream",
     "text": [
      "[ 1.66858299  5.04891943  2.81075555  4.124797    5.54903996  9.14307639\n",
      "  3.94466018  4.67938183]\n"
     ]
    }
   ],
   "source": [
    "x = np.random.chisquare(4,8)\n",
    "print(x)"
   ]
  },
  {
   "cell_type": "markdown",
   "metadata": {},
   "source": [
    "#### Generate array with binomial distribution and plot Histrogram. Binomial distribution is used to measure the amount of successes in a given sample."
   ]
  },
  {
   "cell_type": "code",
   "execution_count": 39,
   "metadata": {},
   "outputs": [
    {
     "data": {
      "image/png": "[encoded data removed]",
      "text/plain": [
       "<matplotlib.figure.Figure at 0x2943d238208>"
      ]
     },
     "metadata": {},
     "output_type": "display_data"
    }
   ],
   "source": [
    "#edited from https://data-flair.training/blogs/python-probability-distributions/\n",
    "x=np.random.binomial(5,0.25,500)\n",
    "plt.hist(x,16,normed=True,color='Blue')\n",
    "plt.show()"
   ]
  },
  {
   "cell_type": "markdown",
   "metadata": {},
   "source": [
    "#### Plot of Two Poisson distribution arrays. Poisson distribution maybe described as an extreme case of binomial distribution [6]. It is useful for measuring sucesses of an event occuring in at fixed intervals."
   ]
  },
  {
   "cell_type": "code",
   "execution_count": 40,
   "metadata": {},
   "outputs": [
    {
     "data": {
      "image/png": "[encoded data removed]",
      "text/plain": [
       "<matplotlib.figure.Figure at 0x2943d2c6828>"
      ]
     },
     "metadata": {},
     "output_type": "display_data"
    }
   ],
   "source": [
    "x1 = np.random.poisson(5,100)\n",
    "x2 = np.random.poisson(5, 100)\n",
    "plt.plot(x1, label=\"x1\")\n",
    "plt.plot(x2, label=\"x2\")\n",
    "plt.legend(bbox_to_anchor=(1, 1), loc=1, borderaxespad=0.)\n",
    "plt.show()"
   ]
  },
  {
   "cell_type": "markdown",
   "metadata": {},
   "source": [
    "### Using the seed in pseudorandom numbers."
   ]
  },
  {
   "cell_type": "code",
   "execution_count": null,
   "metadata": {
    "collapsed": true
   },
   "outputs": [],
   "source": []
  },
  {
   "cell_type": "markdown",
   "metadata": {},
   "source": [
    "Refeferences\n",
    "\n",
    "[1] SciPy and NumPy by Eli Bressert https://www.oreilly.com/library/view/scipy-and-numpy/9781449361600/ch01.html \n",
    "\n",
    "\n",
    "[2] An Introduction to Numpy and Scipy(2014) M Scott Shell https://engineering.ucsb.edu/~shell/che210d/numpy.pdf\n",
    "\n",
    "[3] Gaussian Distribution https://www.sciencedirect.com/topics/biochemistry-genetics-and-molecular-biology/gaussian-distribution\n",
    "\n",
    "[4] http://www.math.wm.edu/~leemis/chart/UDR/PDFs/Rayleigh.pdf\n",
    "\n",
    "[5] Chi-Square Distribution by Miljenko Huzak ://link.springer.com/referenceworkentry/10.1007%2F978-3-642-04898-2_637\n",
    "\n",
    "[6]The Poisson Distribution(2005) by E Bruce Brooks https://www.umass.edu/wsp/resources/poisson/"
   ]
  },
  {
   "cell_type": "code",
   "execution_count": null,
   "metadata": {
    "collapsed": true
   },
   "outputs": [],
   "source": []
  }
 ],
 "metadata": {
  "kernelspec": {
   "display_name": "Python 3",
   "language": "python",
   "name": "python3"
  },
  "language_info": {
   "codemirror_mode": {
    "name": "ipython",
    "version": 3
   },
   "file_extension": ".py",
   "mimetype": "text/x-python",
   "name": "python",
   "nbconvert_exporter": "python",
   "pygments_lexer": "ipython3",
   "version": "3.6.3"
  }
 },
 "nbformat": 4,
 "nbformat_minor": 2
}
