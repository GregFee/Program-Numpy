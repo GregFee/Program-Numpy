{
 "cells": [
  {
   "cell_type": "markdown",
   "metadata": {},
   "source": [
    "## An Investigation into numpy.random"
   ]
  },
  {
   "cell_type": "markdown",
   "metadata": {
    "collapsed": true
   },
   "source": [
    "## GMIT Programming for Data Analysis Assignment"
   ]
  },
  {
   "cell_type": "markdown",
   "metadata": {
    "collapsed": true
   },
   "source": [
    "Purpose of Numpy: Numpy is a Python package that is used to for numerical processing through multi dimensional arrays and this allows element by element operations known as braodcasting.[1] The overall purpose of Numpy.random function is to generate random numbers. Numpy uses a pseudorandom generator to draw random numbers that are distributed in a random fashion[2]. These numbers can be used for statistical simulation purposes. A seed can be used to dictate the random numbers and this can be set in the package. Numpy.random has different modules of random distribution which makes it useful. "
   ]
  },
  {
   "cell_type": "markdown",
   "metadata": {
    "collapsed": true
   },
   "source": [
    "## Numpy and Simple random data"
   ]
  },
  {
   "cell_type": "markdown",
   "metadata": {},
   "source": [
    "The following examples explain some of the uses of simple random data functions."
   ]
  },
  {
   "cell_type": "code",
   "execution_count": 35,
   "metadata": {
    "collapsed": true
   },
   "outputs": [],
   "source": [
    "#import libraries\n",
    "import numpy as np\n",
    "import matplotlib.pyplot as plt\n"
   ]
  },
  {
   "cell_type": "markdown",
   "metadata": {},
   "source": [
    "#### Generate array of random data with shape, shape here 6 x 3 array values between 0 and 1 "
   ]
  },
  {
   "cell_type": "code",
   "execution_count": 36,
   "metadata": {},
   "outputs": [
    {
     "name": "stdout",
     "output_type": "stream",
     "text": [
      "[[ 0.71386891  0.76620443  0.83542231]\n",
      " [ 0.13295723  0.33149426  0.07419522]\n",
      " [ 0.56233756  0.24552929  0.31941844]\n",
      " [ 0.89332745  0.25787846  0.11775146]\n",
      " [ 0.89869324  0.25403737  0.43049495]\n",
      " [ 0.9606104   0.38333119  0.67613161]]\n"
     ]
    }
   ],
   "source": [
    "#range of 0 to 1 with shape \n",
    "x= np.random.rand(6,3)\n",
    "print(x)"
   ]
  },
  {
   "cell_type": "markdown",
   "metadata": {},
   "source": [
    "#### Generate array with integers, high number of range excluded but lower number included"
   ]
  },
  {
   "cell_type": "code",
   "execution_count": 37,
   "metadata": {},
   "outputs": [
    {
     "name": "stdout",
     "output_type": "stream",
     "text": [
      "[[13 13  6]\n",
      " [ 6  8 15]\n",
      " [10 15 12]\n",
      " [11  5 15]\n",
      " [10 14 10]\n",
      " [12 13 11]]\n"
     ]
    }
   ],
   "source": [
    "#generate array with integers, high number of range excluded but lower number included\n",
    "x =np.random.randint(4,16,(6,3))\n",
    "print(x)"
   ]
  },
  {
   "cell_type": "markdown",
   "metadata": {},
   "source": [
    "#### Generate 10 random sample numbers."
   ]
  },
  {
   "cell_type": "code",
   "execution_count": 38,
   "metadata": {},
   "outputs": [
    {
     "name": "stdout",
     "output_type": "stream",
     "text": [
      "[ 0.91512746  0.28277244  0.54790827  0.7286729   0.55156863  0.93565746\n",
      "  0.60796076  0.44020106  0.05280912  0.98289373]\n"
     ]
    }
   ],
   "source": [
    "#exmaple of 10 sample numbers\n",
    "x = np.random.random_sample((10,))\n",
    "print(x)"
   ]
  },
  {
   "cell_type": "markdown",
   "metadata": {},
   "source": [
    "#### Generate results of 20 coin flips using random.choice"
   ]
  },
  {
   "cell_type": "code",
   "execution_count": 39,
   "metadata": {},
   "outputs": [
    {
     "name": "stdout",
     "output_type": "stream",
     "text": [
      "['Tails' 'Tails' 'Heads' 'Tails' 'Heads' 'Heads' 'Tails' 'Heads' 'Tails'\n",
      " 'Tails' 'Heads' 'Heads' 'Tails' 'Tails' 'Tails' 'Heads' 'Tails' 'Tails'\n",
      " 'Heads' 'Tails']\n"
     ]
    }
   ],
   "source": [
    "#Simulate result of 20 coin flips\n",
    "flip = np.random.choice(['Heads', 'Tails'], 20)\n",
    "print(flip)"
   ]
  },
  {
   "cell_type": "markdown",
   "metadata": {},
   "source": [
    "#### You can also plot a random array for visualisation"
   ]
  },
  {
   "cell_type": "code",
   "execution_count": 40,
   "metadata": {},
   "outputs": [
    {
     "data": {
      "image/png": "[encoded data removed]",
      "text/plain": [
       "<matplotlib.figure.Figure at 0x1e282c2c9e8>"
      ]
     },
     "metadata": {},
     "output_type": "display_data"
    }
   ],
   "source": [
    "#you can also plot a random array for visualisation\n",
    "plt.plot(np.random.randint(4,16,(6,3)))\n",
    "plt.ylabel(\"Y\")\n",
    "plt.xlabel(\"X\")\n",
    "plt.show()"
   ]
  },
  {
   "cell_type": "markdown",
   "metadata": {},
   "source": [
    "## Permutation functions in Numpy.random"
   ]
  },
  {
   "cell_type": "markdown",
   "metadata": {},
   "source": [
    "The following show examples of the permutaion functions in the numpy.random package"
   ]
  },
  {
   "cell_type": "code",
   "execution_count": 41,
   "metadata": {},
   "outputs": [
    {
     "name": "stdout",
     "output_type": "stream",
     "text": [
      "[ 5  7  1 14  2 12 10  0 13 11  3  9  4  8  6]\n"
     ]
    }
   ],
   "source": [
    "#Example of using the shuffle function, range 0 - 14\n",
    "#This will randomly shuffle the array\n",
    "x = np.arange(15)\n",
    "np.random.shuffle(x)\n",
    "print(x)"
   ]
  },
  {
   "cell_type": "code",
   "execution_count": 42,
   "metadata": {},
   "outputs": [
    {
     "name": "stdout",
     "output_type": "stream",
     "text": [
      "[  0.   8.  16.  24.  32.]\n"
     ]
    }
   ],
   "source": [
    "#Edited from http://queirozf.com/entries/numpy-distributions-and-statistical-functions\n",
    "#examples-reference\n",
    "#Generate array evenly spaced with step size included, from 0 to 40 step size 8\n",
    "x = np.arange(0.0,40.0,8)\n",
    "print(x)"
   ]
  },
  {
   "cell_type": "code",
   "execution_count": 43,
   "metadata": {},
   "outputs": [
    {
     "name": "stdout",
     "output_type": "stream",
     "text": [
      "[[ 0  1  2]\n",
      " [ 3  4  5]\n",
      " [ 6  7  8]\n",
      " [ 9 10 11]\n",
      " [12 13 14]]\n"
     ]
    }
   ],
   "source": [
    "#Example of using permutation function\n",
    "#Reshape generating 5 arrays\n",
    "x = np.arange(15).reshape((5, 3))\n",
    "np.random.permutation(x)\n",
    "print(x)"
   ]
  },
  {
   "cell_type": "markdown",
   "metadata": {},
   "source": [
    "## Distribution functions in numpy.random"
   ]
  },
  {
   "cell_type": "markdown",
   "metadata": {},
   "source": [
    "#### Generate numbers with uniform distribution"
   ]
  },
  {
   "cell_type": "code",
   "execution_count": 44,
   "metadata": {},
   "outputs": [
    {
     "name": "stdout",
     "output_type": "stream",
     "text": [
      "[ 0.18918875  0.88854993  0.87081073  0.16992569  0.96424942  0.17367325\n",
      "  0.96975686  0.71193454]\n"
     ]
    }
   ],
   "source": [
    "x =np.random.uniform(size=8)\n",
    "print(x)"
   ]
  },
  {
   "cell_type": "markdown",
   "metadata": {},
   "source": [
    "#### Generate numbers with normal distribution. Normal distribution also known as Gaussian distribution will follow a normal distribution with an equal amount of values above and below the mean value[3]. "
   ]
  },
  {
   "cell_type": "code",
   "execution_count": 45,
   "metadata": {},
   "outputs": [
    {
     "name": "stdout",
     "output_type": "stream",
     "text": [
      "[ 0.33177752  0.24506967  0.85089851  1.23182926 -0.43698337  0.90398875\n",
      "  0.30587281 -0.81661409]\n"
     ]
    }
   ],
   "source": [
    "#sample size of 8 with normal distribution\n",
    "x =np.random.normal(size=8)\n",
    "print(x)"
   ]
  },
  {
   "cell_type": "markdown",
   "metadata": {},
   "source": [
    "#### Generate random numbers with Rayeligh distribution on histrogram. Rayleigh distribution can be used when monitoring the lifespan and service time of an object[4]."
   ]
  },
  {
   "cell_type": "code",
   "execution_count": 46,
   "metadata": {},
   "outputs": [
    {
     "data": {
      "image/png": "[encoded data removed]",
      "text/plain": [
       "<matplotlib.figure.Figure at 0x1e2824807b8>"
      ]
     },
     "metadata": {},
     "output_type": "display_data"
    }
   ],
   "source": [
    "x = np.random.rayleigh(size = 500)\n",
    "plt.hist(x, normed=True, bins=30)\n",
    "plt.ylabel('Y')\n",
    "plt.show()"
   ]
  },
  {
   "cell_type": "markdown",
   "metadata": {},
   "source": [
    "#### Generate array using chi square distribution. The chi-square distribution is used widely in continuous probability distributions with many uses in statistical theory and inference [5]."
   ]
  },
  {
   "cell_type": "code",
   "execution_count": 47,
   "metadata": {},
   "outputs": [
    {
     "name": "stdout",
     "output_type": "stream",
     "text": [
      "[ 2.26570599  1.83349415  1.466453    5.06204102  3.23666802  3.63174027\n",
      "  1.34988913  4.43985987]\n"
     ]
    }
   ],
   "source": [
    "x = np.random.chisquare(4,8)\n",
    "print(x)"
   ]
  },
  {
   "cell_type": "markdown",
   "metadata": {},
   "source": [
    "#### Generate array with binomial distribution and plot Histrogram. Binomial distribution is used to measure the amount of successes in a given sample. Each observation will represent two outcomes sucess or failure where each observation in independant and the probability of sucess is the same for each outcome [6]."
   ]
  },
  {
   "cell_type": "code",
   "execution_count": 48,
   "metadata": {},
   "outputs": [
    {
     "data": {
      "image/png": "[encoded data removed]",
      "text/plain": [
       "<matplotlib.figure.Figure at 0x1e282ab5da0>"
      ]
     },
     "metadata": {},
     "output_type": "display_data"
    }
   ],
   "source": [
    "#edited from https://data-flair.training/blogs/python-probability-distributions/\n",
    "#plot histogram using binomial distribution\n",
    "x=np.random.binomial(5,0.25,500)\n",
    "plt.hist(x,16,normed=True,color='Blue')\n",
    "plt.show()"
   ]
  },
  {
   "cell_type": "markdown",
   "metadata": {},
   "source": [
    "#### Plot of Two Poisson distribution arrays. Poisson distribution maybe described as an extreme case of binomial distribution [7]. It is useful for measuring sucesses of an event occuring in at fixed intervals."
   ]
  },
  {
   "cell_type": "code",
   "execution_count": 49,
   "metadata": {},
   "outputs": [
    {
     "data": {
      "image/png": "[encoded data removed]",
      "text/plain": [
       "<matplotlib.figure.Figure at 0x1e282c452b0>"
      ]
     },
     "metadata": {},
     "output_type": "display_data"
    }
   ],
   "source": [
    "#Generate plot from random array with poisson distribution\n",
    "x1 = np.random.poisson(5,100)\n",
    "x2 = np.random.poisson(5, 100)\n",
    "plt.plot(x1, label=\"x1\")\n",
    "plt.plot(x2, label=\"x2\")\n",
    "plt.legend(bbox_to_anchor=(1, 1), loc=1, borderaxespad=0.)\n",
    "plt.show()"
   ]
  },
  {
   "cell_type": "markdown",
   "metadata": {},
   "source": [
    "### Using the seed in pseudorandom numbers. "
   ]
  },
  {
   "cell_type": "markdown",
   "metadata": {
    "collapsed": true
   },
   "source": [
    "#### The above random examples will all generate random arrays. If you want to control the generated array you can adjust the seed. If you want to generate the same set of random numbers everytime you can set the seed and if you set the seed the same for each array you will get the same results [8]."
   ]
  },
  {
   "cell_type": "code",
   "execution_count": 71,
   "metadata": {},
   "outputs": [
    {
     "data": {
      "text/plain": [
       "array([ 0.43532239,  0.4203678 ,  0.33033482])"
      ]
     },
     "execution_count": 71,
     "metadata": {},
     "output_type": "execute_result"
    }
   ],
   "source": [
    "#generate random array\n",
    "np.random.rand(3)"
   ]
  },
  {
   "cell_type": "code",
   "execution_count": 72,
   "metadata": {},
   "outputs": [
    {
     "data": {
      "text/plain": [
       "array([ 0.20464863,  0.61927097,  0.29965467])"
      ]
     },
     "execution_count": 72,
     "metadata": {},
     "output_type": "execute_result"
    }
   ],
   "source": [
    "#generate random array different results\n",
    "np.random.rand(3)"
   ]
  },
  {
   "cell_type": "code",
   "execution_count": 69,
   "metadata": {},
   "outputs": [
    {
     "data": {
      "text/plain": [
       "array([ 0.4359949 ,  0.02592623,  0.54966248])"
      ]
     },
     "execution_count": 69,
     "metadata": {},
     "output_type": "execute_result"
    }
   ],
   "source": [
    "#set the seed\n",
    "np.random.seed(2) ; np.random.rand(3)"
   ]
  },
  {
   "cell_type": "code",
   "execution_count": 70,
   "metadata": {},
   "outputs": [
    {
     "data": {
      "text/plain": [
       "array([ 0.4359949 ,  0.02592623,  0.54966248])"
      ]
     },
     "execution_count": 70,
     "metadata": {},
     "output_type": "execute_result"
    }
   ],
   "source": [
    "#generated numbers are controlled\n",
    "np.random.seed(2) ; np.random.rand(3)"
   ]
  },
  {
   "cell_type": "markdown",
   "metadata": {},
   "source": [
    "References\n",
    "\n",
    "[1] SciPy and NumPy by Eli Bressert https://www.oreilly.com/library/view/scipy-and-numpy/9781449361600/ch01.html \n",
    "\n",
    "\n",
    "[2] An Introduction to Numpy and Scipy(2014) M Scott Shell https://engineering.ucsb.edu/~shell/che210d/numpy.pdf\n",
    "\n",
    "[3] Gaussian Distribution https://www.sciencedirect.com/topics/biochemistry-genetics-and-molecular-biology/gaussian-distribution\n",
    "\n",
    "[4] http://www.math.wm.edu/~leemis/chart/UDR/PDFs/Rayleigh.pdf\n",
    "\n",
    "[5] Chi-Square Distribution by Miljenko Huzak ://link.springer.com/referenceworkentry/10.1007%2F978-3-642-04898-2_637\n",
    "\n",
    "[6] The Binomial Distribution http://www.stat.yale.edu/Courses/1997-98/101/binom.htm\n",
    "\n",
    "[7] The Poisson Distribution(2005) by E Bruce Brooks https://www.umass.edu/wsp/resources/poisson/\n",
    "\n",
    "[8] Numpy Tutorial https://www.machinelearningplus.com/python/numpy-tutorial-part1-array-python-examples/"
   ]
  },
  {
   "cell_type": "code",
   "execution_count": null,
   "metadata": {
    "collapsed": true
   },
   "outputs": [],
   "source": []
  }
 ],
 "metadata": {
  "kernelspec": {
   "display_name": "Python 3",
   "language": "python",
   "name": "python3"
  },
  "language_info": {
   "codemirror_mode": {
    "name": "ipython",
    "version": 3
   },
   "file_extension": ".py",
   "mimetype": "text/x-python",
   "name": "python",
   "nbconvert_exporter": "python",
   "pygments_lexer": "ipython3",
   "version": "3.6.3"
  }
 },
 "nbformat": 4,
 "nbformat_minor": 2
}
