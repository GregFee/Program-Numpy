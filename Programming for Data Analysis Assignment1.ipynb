{
 "cells": [
  {
   "cell_type": "markdown",
   "metadata": {},
   "source": [
    "## An Investigation into numpy.random"
   ]
  },
  {
   "cell_type": "markdown",
   "metadata": {
    "collapsed": true
   },
   "source": [
    "## GMIT Programming for Data Analysis Assignment"
   ]
  },
  {
   "cell_type": "markdown",
   "metadata": {
    "collapsed": true
   },
   "source": [
    "Purpose: The overall purpose of Numpy.random function is to generate random numbers. Numpy uses a pseudorandom generator to draw random numbers that are distributed in a random fashion[1]. These numbers can be used for statistical simulation purposes. A seed can be used to dictate the random numbers and this can be set in the package."
   ]
  },
  {
   "cell_type": "markdown",
   "metadata": {},
   "source": [
    "Refeferences:\n",
    "\n",
    "[1]. An Introduction to Numpy and Scipy(2014) M Scott Shell https://engineering.ucsb.edu/~shell/che210d/numpy.pdf\n",
    "\n",
    "[2]. "
   ]
  }
 ],
 "metadata": {
  "kernelspec": {
   "display_name": "Python 3",
   "language": "python",
   "name": "python3"
  },
  "language_info": {
   "codemirror_mode": {
    "name": "ipython",
    "version": 3
   },
   "file_extension": ".py",
   "mimetype": "text/x-python",
   "name": "python",
   "nbconvert_exporter": "python",
   "pygments_lexer": "ipython3",
   "version": "3.6.3"
  }
 },
 "nbformat": 4,
 "nbformat_minor": 2
}
