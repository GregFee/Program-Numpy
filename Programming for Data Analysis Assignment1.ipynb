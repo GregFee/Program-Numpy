{
 "cells": [
  {
   "cell_type": "markdown",
   "metadata": {},
   "source": [
    "# An Investigation into numpy.random"
   ]
  },
  {
   "cell_type": "markdown",
   "metadata": {
    "collapsed": true
   },
   "source": [
    "## GMIT Programming for Data Analysis Assignment"
   ]
  },
  {
   "cell_type": "markdown",
   "metadata": {
    "collapsed": true
   },
   "source": [
    "Purpose of Numpy: Numpy is a Python package that is used to for numerical processing through multi dimensional arrays and this allows element by element operations known as braodcasting [1]. The overall purpose of Numpy.random package is to generate random numbers. Numpy uses a pseudorandom generator to draw random numbers that are distributed in a random fashion[2]. These numbers can be used for statistical simulation purposes. A seed can be used to dictate the random numbers and this can be set in the package. Numpy.random has different modules of random distribution which makes it useful. "
   ]
  },
  {
   "cell_type": "markdown",
   "metadata": {
    "collapsed": true
   },
   "source": [
    "## Numpy and Simple random data"
   ]
  },
  {
   "cell_type": "markdown",
   "metadata": {},
   "source": [
    "The following examples explain some of the uses of simple random data functions."
   ]
  },
  {
   "cell_type": "code",
   "execution_count": 2,
   "metadata": {
    "collapsed": true
   },
   "outputs": [],
   "source": [
    "#import libraries\n",
    "import numpy as np\n",
    "import matplotlib.pyplot as plt\n"
   ]
  },
  {
   "cell_type": "markdown",
   "metadata": {},
   "source": [
    "Generate array of random data with shape, shape here 6 x 3 array values between 0 and 1 "
   ]
  },
  {
   "cell_type": "code",
   "execution_count": 3,
   "metadata": {},
   "outputs": [
    {
     "name": "stdout",
     "output_type": "stream",
     "text": [
      "[[ 0.12625126  0.62316621  0.17618769]\n",
      " [ 0.40322805  0.22567476  0.88295119]\n",
      " [ 0.54655998  0.0405781   0.28624186]\n",
      " [ 0.10132222  0.75788477  0.77593554]\n",
      " [ 0.965566    0.94238206  0.20966847]\n",
      " [ 0.72075309  0.10134317  0.08332671]] random array between 0 and 1\n"
     ]
    }
   ],
   "source": [
    "#range of 0 to 1 with shape \n",
    "x= np.random.rand(6,3)\n",
    "print(x, 'random array between 0 and 1')"
   ]
  },
  {
   "cell_type": "markdown",
   "metadata": {},
   "source": [
    "Generate array with integers, high number of range excluded but lower number included"
   ]
  },
  {
   "cell_type": "code",
   "execution_count": 4,
   "metadata": {},
   "outputs": [
    {
     "name": "stdout",
     "output_type": "stream",
     "text": [
      "[[ 7 11 12]\n",
      " [ 6 11  6]\n",
      " [13 14 15]\n",
      " [12  4 12]\n",
      " [11 12  9]\n",
      " [15 10 11]] array with integers\n"
     ]
    }
   ],
   "source": [
    "#generate array with integers, high number of range excluded but lower number included\n",
    "x =np.random.randint(4,16,(6,3))\n",
    "print(x, 'array with integers')"
   ]
  },
  {
   "cell_type": "markdown",
   "metadata": {},
   "source": [
    "Generate 10 random sample numbers."
   ]
  },
  {
   "cell_type": "code",
   "execution_count": 5,
   "metadata": {},
   "outputs": [
    {
     "name": "stdout",
     "output_type": "stream",
     "text": [
      "10 sample numbers [ 0.19696745  0.84708232  0.83630658  0.41119642  0.12790768  0.7189315\n",
      "  0.99840522  0.75140655  0.99235912  0.36713734]\n"
     ]
    }
   ],
   "source": [
    "#exmaple of 10 sample numbers\n",
    "x = np.random.random_sample((10,))\n",
    "print('10 sample numbers', x)"
   ]
  },
  {
   "cell_type": "markdown",
   "metadata": {},
   "source": [
    "Generate results of 20 coin flips using random.choice"
   ]
  },
  {
   "cell_type": "code",
   "execution_count": 6,
   "metadata": {},
   "outputs": [
    {
     "name": "stdout",
     "output_type": "stream",
     "text": [
      "['Tails' 'Tails' 'Tails' 'Tails' 'Tails' 'Heads' 'Tails' 'Tails' 'Heads'\n",
      " 'Heads' 'Tails' 'Heads' 'Tails' 'Tails' 'Tails' 'Tails' 'Heads' 'Tails'\n",
      " 'Heads' 'Heads'] results of 20 flips\n"
     ]
    }
   ],
   "source": [
    "#Simulate result of 20 coin flips\n",
    "flip = np.random.choice(['Heads', 'Tails'], 20)\n",
    "print(flip, 'results of 20 flips')"
   ]
  },
  {
   "cell_type": "markdown",
   "metadata": {},
   "source": [
    "You can also plot a random array for visualisation"
   ]
  },
  {
   "cell_type": "code",
   "execution_count": 7,
   "metadata": {},
   "outputs": [
    {
     "data": {
      "image/png": "[encoded data removed]",
      "text/plain": [
       "<matplotlib.figure.Figure at 0x20acbc40320>"
      ]
     },
     "metadata": {},
     "output_type": "display_data"
    }
   ],
   "source": [
    "#you can also plot a random array for visualisation\n",
    "plt.plot(np.random.randint(4,16,(6,3)))\n",
    "plt.ylabel(\"Y\")\n",
    "plt.xlabel(\"X\")\n",
    "plt.show()"
   ]
  },
  {
   "cell_type": "markdown",
   "metadata": {},
   "source": [
    "## Permutation functions in Numpy.random"
   ]
  },
  {
   "cell_type": "markdown",
   "metadata": {},
   "source": [
    "The following shows examples of the permutaion functions in the numpy.random package. It can be used to alter a sequence or switch columns and rows data."
   ]
  },
  {
   "cell_type": "code",
   "execution_count": 8,
   "metadata": {},
   "outputs": [
    {
     "name": "stdout",
     "output_type": "stream",
     "text": [
      "shuffled array [ 9 11 13  1  6  3  7  0  8 14 12  4  5 10  2]\n"
     ]
    }
   ],
   "source": [
    "#Example of using the shuffle function, range 0 - 14\n",
    "#This will randomly shuffle the array\n",
    "x = np.arange(15)\n",
    "np.random.shuffle(x)\n",
    "print('shuffled array', x)"
   ]
  },
  {
   "cell_type": "code",
   "execution_count": 9,
   "metadata": {},
   "outputs": [
    {
     "name": "stdout",
     "output_type": "stream",
     "text": [
      "array evenly displayed with step sequence [  0.   8.  16.  24.  32.]\n"
     ]
    }
   ],
   "source": [
    "#Edited from http://queirozf.com/entries/numpy-distributions-and-statistical-functions\n",
    "#examples-reference\n",
    "#Generate array evenly spaced with step size included, from 0 to 40 step size 8\n",
    "x = np.arange(0.0,40.0,8)\n",
    "print('array evenly displayed with step sequence', x)"
   ]
  },
  {
   "cell_type": "code",
   "execution_count": 10,
   "metadata": {},
   "outputs": [
    {
     "name": "stdout",
     "output_type": "stream",
     "text": [
      "[[ 0  1  2]\n",
      " [ 3  4  5]\n",
      " [ 6  7  8]\n",
      " [ 9 10 11]\n",
      " [12 13 14]] permuted array\n"
     ]
    }
   ],
   "source": [
    "#Example of using permutation function\n",
    "#Reshape generating 5 arrays\n",
    "x = np.arange(15).reshape((5, 3))\n",
    "np.random.permutation(x)\n",
    "print(x, 'permuted array')"
   ]
  },
  {
   "cell_type": "markdown",
   "metadata": {},
   "source": [
    "## Distribution functions in numpy.random"
   ]
  },
  {
   "cell_type": "markdown",
   "metadata": {},
   "source": [
    "Generate numbers with uniform distribution which probabilities for outcomes are equal"
   ]
  },
  {
   "cell_type": "code",
   "execution_count": 11,
   "metadata": {},
   "outputs": [
    {
     "name": "stdout",
     "output_type": "stream",
     "text": [
      "unform distribution [ 0.32457286  0.99450733  0.57719761  0.55380849  0.83457013  0.82317894\n",
      "  0.05045014  0.9554057 ]\n"
     ]
    }
   ],
   "source": [
    "#8 numbers with unformdistribution\n",
    "x =np.random.uniform(size=8)\n",
    "print('unform distribution', x)"
   ]
  },
  {
   "cell_type": "markdown",
   "metadata": {},
   "source": [
    "Generate numbers with normal distribution. Normal distribution also known as Gaussian distribution will follow a normal distribution with an equal amount of values above and below the mean value [3]. "
   ]
  },
  {
   "cell_type": "code",
   "execution_count": 12,
   "metadata": {},
   "outputs": [
    {
     "name": "stdout",
     "output_type": "stream",
     "text": [
      "[-2.26325193 -0.43289993  1.93922626  0.80949804 -0.46551682  1.89045224\n",
      "  0.85743293  0.24656119] array with normal distribution\n"
     ]
    }
   ],
   "source": [
    "#sample size of 8 with normal distribution\n",
    "x =np.random.normal(size=8)\n",
    "print(x, 'array with normal distribution')"
   ]
  },
  {
   "cell_type": "markdown",
   "metadata": {},
   "source": [
    "Generate random numbers with Rayeligh distribution on histrogram. Rayleigh distribution can be used when monitoring the lifespan and service time of an object [4]. It is related to Chi distribution."
   ]
  },
  {
   "cell_type": "code",
   "execution_count": 13,
   "metadata": {},
   "outputs": [
    {
     "data": {
      "image/png": "[encoded data removed]",
      "text/plain": [
       "<matplotlib.figure.Figure at 0x20acc184048>"
      ]
     },
     "metadata": {},
     "output_type": "display_data"
    }
   ],
   "source": [
    "#use rayleigh distrubution and plot reuslts on histrogram\n",
    "x = np.random.rayleigh(size = 500)\n",
    "plt.hist(x, normed=True, bins=30)\n",
    "plt.ylabel('Y')\n",
    "plt.show()"
   ]
  },
  {
   "cell_type": "markdown",
   "metadata": {},
   "source": [
    "Generate array using chi square distribution. The chi-square distribution is used widely in continuous probability distributions with many uses in statistical theory and inference [5]."
   ]
  },
  {
   "cell_type": "code",
   "execution_count": 14,
   "metadata": {},
   "outputs": [
    {
     "name": "stdout",
     "output_type": "stream",
     "text": [
      "[ 4.62447878  2.54142648  1.08450592  4.95970891  0.55241804  0.79884238\n",
      "  4.66603543  2.92923666] array with chi square distribution\n"
     ]
    }
   ],
   "source": [
    "#use random chi square distribution for array\n",
    "x = np.random.chisquare(4,8)\n",
    "print(x, 'array with chi square distribution')"
   ]
  },
  {
   "cell_type": "markdown",
   "metadata": {},
   "source": [
    "Generate array with binomial distribution and plot histrogram. Binomial distribution is used to measure the amount of successes in a given sample. Each observation will represent two outcomes sucess or failure where each observation in independant and the probability of sucess is the same for each outcome [6]."
   ]
  },
  {
   "cell_type": "code",
   "execution_count": 15,
   "metadata": {},
   "outputs": [
    {
     "data": {
      "image/png": "[encoded data removed]",
      "text/plain": [
       "<matplotlib.figure.Figure at 0x20acc32b390>"
      ]
     },
     "metadata": {},
     "output_type": "display_data"
    }
   ],
   "source": [
    "#edited from https://data-flair.training/blogs/python-probability-distributions/\n",
    "#plot histogram using binomial distribution\n",
    "x=np.random.binomial(5,0.25,500)\n",
    "plt.hist(x,16,normed=True,color='Blue')\n",
    "plt.show()"
   ]
  },
  {
   "cell_type": "markdown",
   "metadata": {},
   "source": [
    "Plot of Two Poisson distribution arrays. Poisson distribution maybe described as an extreme case of binomial distribution [7]. It is useful for measuring sucesses of an event occuring at fixed intervals."
   ]
  },
  {
   "cell_type": "code",
   "execution_count": 16,
   "metadata": {},
   "outputs": [
    {
     "data": {
      "image/png": "[encoded data removed]",
      "text/plain": [
       "<matplotlib.figure.Figure at 0x20acc2a8e48>"
      ]
     },
     "metadata": {},
     "output_type": "display_data"
    }
   ],
   "source": [
    "#Generate plot from random array with poisson distribution\n",
    "x1 = np.random.poisson(5,20)\n",
    "x2 = np.random.poisson(5, 20)\n",
    "plt.plot(x1, 'mo', label=\"x1\")\n",
    "plt.plot(x2, 'go', label=\"x2\")\n",
    "plt.legend(bbox_to_anchor=(1, 1), loc=1, borderaxespad=0.)\n",
    "plt.show()"
   ]
  },
  {
   "cell_type": "markdown",
   "metadata": {},
   "source": [
    "## Using the seed in pseudorandom numbers. "
   ]
  },
  {
   "cell_type": "markdown",
   "metadata": {},
   "source": [
    "![title](img/mersenne.png)"
   ]
  },
  {
   "cell_type": "markdown",
   "metadata": {
    "collapsed": true
   },
   "source": [
    "The above random examples will all generate random arrays. If you want to control the generated array you can adjust the seed. If you want to generate the same set of random numbers everytime you can set the seed and if you set the seed the same for each array you will get the same results [8].Numpy.random uses the Mersenne Twister algorithm to generate random numbers and this is controlled by the seed. Mersenne Twister generates numbers that are almost uniform and have a large period and this makes it useful and reliable for a wide variety of applications [9]. It uses Mersenne prime number as its basis and is named after Marin Mersenne.It is prime number of the form 2n − 1 where n is a natural number [10]."
   ]
  },
  {
   "cell_type": "code",
   "execution_count": 17,
   "metadata": {},
   "outputs": [
    {
     "data": {
      "text/plain": [
       "array([ 0.55509213,  0.60773211,  0.19329655])"
      ]
     },
     "execution_count": 17,
     "metadata": {},
     "output_type": "execute_result"
    }
   ],
   "source": [
    "#generate random array\n",
    "np.random.rand(3)"
   ]
  },
  {
   "cell_type": "code",
   "execution_count": 18,
   "metadata": {},
   "outputs": [
    {
     "data": {
      "text/plain": [
       "array([ 0.02811774,  0.31744792,  0.78953946])"
      ]
     },
     "execution_count": 18,
     "metadata": {},
     "output_type": "execute_result"
    }
   ],
   "source": [
    "#generate random array different results\n",
    "np.random.rand(3)"
   ]
  },
  {
   "cell_type": "code",
   "execution_count": 19,
   "metadata": {},
   "outputs": [
    {
     "data": {
      "text/plain": [
       "array([ 0.4359949 ,  0.02592623,  0.54966248])"
      ]
     },
     "execution_count": 19,
     "metadata": {},
     "output_type": "execute_result"
    }
   ],
   "source": [
    "#set the seed\n",
    "np.random.seed(2) ; np.random.rand(3)"
   ]
  },
  {
   "cell_type": "code",
   "execution_count": 20,
   "metadata": {},
   "outputs": [
    {
     "data": {
      "text/plain": [
       "array([ 0.4359949 ,  0.02592623,  0.54966248])"
      ]
     },
     "execution_count": 20,
     "metadata": {},
     "output_type": "execute_result"
    }
   ],
   "source": [
    "#generated numbers are controlled\n",
    "np.random.seed(2) ; np.random.rand(3)"
   ]
  },
  {
   "cell_type": "markdown",
   "metadata": {},
   "source": [
    "The seed might want to be controlled to recreate the same results when testing an hypothesis or simulating a process to do the same thing everytime."
   ]
  },
  {
   "cell_type": "markdown",
   "metadata": {},
   "source": [
    "### References\n",
    "\n",
    "[1] SciPy and NumPy by Eli Bressert https://www.oreilly.com/library/view/scipy-and-numpy/9781449361600/ch01.html \n",
    "\n",
    "\n",
    "[2] An Introduction to Numpy and Scipy(2014) M Scott Shell https://engineering.ucsb.edu/~shell/che210d/numpy.pdf\n",
    "\n",
    "[3] Gaussian Distribution https://www.sciencedirect.com/topics/biochemistry-genetics-and-molecular-biology/gaussian-distribution\n",
    "\n",
    "[4] http://www.math.wm.edu/~leemis/chart/UDR/PDFs/Rayleigh.pdf\n",
    "\n",
    "[5] Chi-Square Distribution by Miljenko Huzak ://link.springer.com/referenceworkentry/10.1007%2F978-3-642-04898-2_637\n",
    "\n",
    "[6] The Binomial Distribution http://www.stat.yale.edu/Courses/1997-98/101/binom.htm\n",
    "\n",
    "[7] The Poisson Distribution(2005) by E Bruce Brooks https://www.umass.edu/wsp/resources/poisson/\n",
    "\n",
    "[8] Numpy Tutorial https://www.machinelearningplus.com/python/numpy-tutorial-part1-array-python-examples/\n",
    "\n",
    "[9] Pseudorandom number generators https://pymotw.com/2/random/\n",
    "\n",
    "[10] Mersenne Prime https://www.britannica.com/science/Mersenne-prime"
   ]
  }
 ],
 "metadata": {
  "kernelspec": {
   "display_name": "Python 3",
   "language": "python",
   "name": "python3"
  },
  "language_info": {
   "codemirror_mode": {
    "name": "ipython",
    "version": 3
   },
   "file_extension": ".py",
   "mimetype": "text/x-python",
   "name": "python",
   "nbconvert_exporter": "python",
   "pygments_lexer": "ipython3",
   "version": "3.6.3"
  }
 },
 "nbformat": 4,
 "nbformat_minor": 2
}
